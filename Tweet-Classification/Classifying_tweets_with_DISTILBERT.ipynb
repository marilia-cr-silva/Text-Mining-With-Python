{
  "nbformat": 4,
  "nbformat_minor": 0,
  "metadata": {
    "colab": {
      "name": "Classifying_tweets_with_DISTILBERT.ipynb",
      "provenance": [],
      "collapsed_sections": [],
      "toc_visible": true
    },
    "kernelspec": {
      "name": "python3",
      "display_name": "Python 3"
    },
    "widgets": {
      "application/vnd.jupyter.widget-state+json": {
        "440f4567a6aa4af586b3f564e6694d98": {
          "model_module": "@jupyter-widgets/controls",
          "model_name": "HBoxModel",
          "state": {
            "_view_name": "HBoxView",
            "_dom_classes": [],
            "_model_name": "HBoxModel",
            "_view_module": "@jupyter-widgets/controls",
            "_model_module_version": "1.5.0",
            "_view_count": null,
            "_view_module_version": "1.5.0",
            "box_style": "",
            "layout": "IPY_MODEL_7a76121292bd4d4c9948d1ce94e6dfdc",
            "_model_module": "@jupyter-widgets/controls",
            "children": [
              "IPY_MODEL_7f00de1691034661961ed400ebc418d5",
              "IPY_MODEL_9a5f7d06923b4f8f94f297d899420f35"
            ]
          }
        },
        "7a76121292bd4d4c9948d1ce94e6dfdc": {
          "model_module": "@jupyter-widgets/base",
          "model_name": "LayoutModel",
          "state": {
            "_view_name": "LayoutView",
            "grid_template_rows": null,
            "right": null,
            "justify_content": null,
            "_view_module": "@jupyter-widgets/base",
            "overflow": null,
            "_model_module_version": "1.2.0",
            "_view_count": null,
            "flex_flow": null,
            "width": null,
            "min_width": null,
            "border": null,
            "align_items": null,
            "bottom": null,
            "_model_module": "@jupyter-widgets/base",
            "top": null,
            "grid_column": null,
            "overflow_y": null,
            "overflow_x": null,
            "grid_auto_flow": null,
            "grid_area": null,
            "grid_template_columns": null,
            "flex": null,
            "_model_name": "LayoutModel",
            "justify_items": null,
            "grid_row": null,
            "max_height": null,
            "align_content": null,
            "visibility": null,
            "align_self": null,
            "height": null,
            "min_height": null,
            "padding": null,
            "grid_auto_rows": null,
            "grid_gap": null,
            "max_width": null,
            "order": null,
            "_view_module_version": "1.2.0",
            "grid_template_areas": null,
            "object_position": null,
            "object_fit": null,
            "grid_auto_columns": null,
            "margin": null,
            "display": null,
            "left": null
          }
        },
        "7f00de1691034661961ed400ebc418d5": {
          "model_module": "@jupyter-widgets/controls",
          "model_name": "FloatProgressModel",
          "state": {
            "_view_name": "ProgressView",
            "style": "IPY_MODEL_5051be9a9db64d288086cc873b7d0a8a",
            "_dom_classes": [],
            "description": "Downloading: 100%",
            "_model_name": "FloatProgressModel",
            "bar_style": "success",
            "max": 466,
            "_view_module": "@jupyter-widgets/controls",
            "_model_module_version": "1.5.0",
            "value": 466,
            "_view_count": null,
            "_view_module_version": "1.5.0",
            "orientation": "horizontal",
            "min": 0,
            "description_tooltip": null,
            "_model_module": "@jupyter-widgets/controls",
            "layout": "IPY_MODEL_53ca1b07e0fa4e5fbb4c297edceb9128"
          }
        },
        "9a5f7d06923b4f8f94f297d899420f35": {
          "model_module": "@jupyter-widgets/controls",
          "model_name": "HTMLModel",
          "state": {
            "_view_name": "HTMLView",
            "style": "IPY_MODEL_bbb847fd274e4c6f9387a53188ab961f",
            "_dom_classes": [],
            "description": "",
            "_model_name": "HTMLModel",
            "placeholder": "​",
            "_view_module": "@jupyter-widgets/controls",
            "_model_module_version": "1.5.0",
            "value": " 466/466 [00:00&lt;00:00, 2.43kB/s]",
            "_view_count": null,
            "_view_module_version": "1.5.0",
            "description_tooltip": null,
            "_model_module": "@jupyter-widgets/controls",
            "layout": "IPY_MODEL_dfc31c4ffbef45ef8e38f6fb2108be1b"
          }
        },
        "5051be9a9db64d288086cc873b7d0a8a": {
          "model_module": "@jupyter-widgets/controls",
          "model_name": "ProgressStyleModel",
          "state": {
            "_view_name": "StyleView",
            "_model_name": "ProgressStyleModel",
            "description_width": "initial",
            "_view_module": "@jupyter-widgets/base",
            "_model_module_version": "1.5.0",
            "_view_count": null,
            "_view_module_version": "1.2.0",
            "bar_color": null,
            "_model_module": "@jupyter-widgets/controls"
          }
        },
        "53ca1b07e0fa4e5fbb4c297edceb9128": {
          "model_module": "@jupyter-widgets/base",
          "model_name": "LayoutModel",
          "state": {
            "_view_name": "LayoutView",
            "grid_template_rows": null,
            "right": null,
            "justify_content": null,
            "_view_module": "@jupyter-widgets/base",
            "overflow": null,
            "_model_module_version": "1.2.0",
            "_view_count": null,
            "flex_flow": null,
            "width": null,
            "min_width": null,
            "border": null,
            "align_items": null,
            "bottom": null,
            "_model_module": "@jupyter-widgets/base",
            "top": null,
            "grid_column": null,
            "overflow_y": null,
            "overflow_x": null,
            "grid_auto_flow": null,
            "grid_area": null,
            "grid_template_columns": null,
            "flex": null,
            "_model_name": "LayoutModel",
            "justify_items": null,
            "grid_row": null,
            "max_height": null,
            "align_content": null,
            "visibility": null,
            "align_self": null,
            "height": null,
            "min_height": null,
            "padding": null,
            "grid_auto_rows": null,
            "grid_gap": null,
            "max_width": null,
            "order": null,
            "_view_module_version": "1.2.0",
            "grid_template_areas": null,
            "object_position": null,
            "object_fit": null,
            "grid_auto_columns": null,
            "margin": null,
            "display": null,
            "left": null
          }
        },
        "bbb847fd274e4c6f9387a53188ab961f": {
          "model_module": "@jupyter-widgets/controls",
          "model_name": "DescriptionStyleModel",
          "state": {
            "_view_name": "StyleView",
            "_model_name": "DescriptionStyleModel",
            "description_width": "",
            "_view_module": "@jupyter-widgets/base",
            "_model_module_version": "1.5.0",
            "_view_count": null,
            "_view_module_version": "1.2.0",
            "_model_module": "@jupyter-widgets/controls"
          }
        },
        "dfc31c4ffbef45ef8e38f6fb2108be1b": {
          "model_module": "@jupyter-widgets/base",
          "model_name": "LayoutModel",
          "state": {
            "_view_name": "LayoutView",
            "grid_template_rows": null,
            "right": null,
            "justify_content": null,
            "_view_module": "@jupyter-widgets/base",
            "overflow": null,
            "_model_module_version": "1.2.0",
            "_view_count": null,
            "flex_flow": null,
            "width": null,
            "min_width": null,
            "border": null,
            "align_items": null,
            "bottom": null,
            "_model_module": "@jupyter-widgets/base",
            "top": null,
            "grid_column": null,
            "overflow_y": null,
            "overflow_x": null,
            "grid_auto_flow": null,
            "grid_area": null,
            "grid_template_columns": null,
            "flex": null,
            "_model_name": "LayoutModel",
            "justify_items": null,
            "grid_row": null,
            "max_height": null,
            "align_content": null,
            "visibility": null,
            "align_self": null,
            "height": null,
            "min_height": null,
            "padding": null,
            "grid_auto_rows": null,
            "grid_gap": null,
            "max_width": null,
            "order": null,
            "_view_module_version": "1.2.0",
            "grid_template_areas": null,
            "object_position": null,
            "object_fit": null,
            "grid_auto_columns": null,
            "margin": null,
            "display": null,
            "left": null
          }
        },
        "0cba8c9bc0df4315aef7e7ac17dae846": {
          "model_module": "@jupyter-widgets/controls",
          "model_name": "HBoxModel",
          "state": {
            "_view_name": "HBoxView",
            "_dom_classes": [],
            "_model_name": "HBoxModel",
            "_view_module": "@jupyter-widgets/controls",
            "_model_module_version": "1.5.0",
            "_view_count": null,
            "_view_module_version": "1.5.0",
            "box_style": "",
            "layout": "IPY_MODEL_48f49f01c2d34d6886a6627c84941238",
            "_model_module": "@jupyter-widgets/controls",
            "children": [
              "IPY_MODEL_4bce8387d60748859d8ad323f07f86a5",
              "IPY_MODEL_b9c5668a2fc84e08ad763cab2469226a"
            ]
          }
        },
        "48f49f01c2d34d6886a6627c84941238": {
          "model_module": "@jupyter-widgets/base",
          "model_name": "LayoutModel",
          "state": {
            "_view_name": "LayoutView",
            "grid_template_rows": null,
            "right": null,
            "justify_content": null,
            "_view_module": "@jupyter-widgets/base",
            "overflow": null,
            "_model_module_version": "1.2.0",
            "_view_count": null,
            "flex_flow": null,
            "width": null,
            "min_width": null,
            "border": null,
            "align_items": null,
            "bottom": null,
            "_model_module": "@jupyter-widgets/base",
            "top": null,
            "grid_column": null,
            "overflow_y": null,
            "overflow_x": null,
            "grid_auto_flow": null,
            "grid_area": null,
            "grid_template_columns": null,
            "flex": null,
            "_model_name": "LayoutModel",
            "justify_items": null,
            "grid_row": null,
            "max_height": null,
            "align_content": null,
            "visibility": null,
            "align_self": null,
            "height": null,
            "min_height": null,
            "padding": null,
            "grid_auto_rows": null,
            "grid_gap": null,
            "max_width": null,
            "order": null,
            "_view_module_version": "1.2.0",
            "grid_template_areas": null,
            "object_position": null,
            "object_fit": null,
            "grid_auto_columns": null,
            "margin": null,
            "display": null,
            "left": null
          }
        },
        "4bce8387d60748859d8ad323f07f86a5": {
          "model_module": "@jupyter-widgets/controls",
          "model_name": "FloatProgressModel",
          "state": {
            "_view_name": "ProgressView",
            "style": "IPY_MODEL_a2a4b08c0e3744ac894c0f0ada6186d8",
            "_dom_classes": [],
            "description": "Downloading: 100%",
            "_model_name": "FloatProgressModel",
            "bar_style": "success",
            "max": 995526,
            "_view_module": "@jupyter-widgets/controls",
            "_model_module_version": "1.5.0",
            "value": 995526,
            "_view_count": null,
            "_view_module_version": "1.5.0",
            "orientation": "horizontal",
            "min": 0,
            "description_tooltip": null,
            "_model_module": "@jupyter-widgets/controls",
            "layout": "IPY_MODEL_68cfb6b84851489c820cedd8e6f4f7e5"
          }
        },
        "b9c5668a2fc84e08ad763cab2469226a": {
          "model_module": "@jupyter-widgets/controls",
          "model_name": "HTMLModel",
          "state": {
            "_view_name": "HTMLView",
            "style": "IPY_MODEL_e2c2da0e2d9a4b5fbb9dd2972272acab",
            "_dom_classes": [],
            "description": "",
            "_model_name": "HTMLModel",
            "placeholder": "​",
            "_view_module": "@jupyter-widgets/controls",
            "_model_module_version": "1.5.0",
            "value": " 996k/996k [00:00&lt;00:00, 1.56MB/s]",
            "_view_count": null,
            "_view_module_version": "1.5.0",
            "description_tooltip": null,
            "_model_module": "@jupyter-widgets/controls",
            "layout": "IPY_MODEL_12b2d420c0384502ad2b279fee4a8b9d"
          }
        },
        "a2a4b08c0e3744ac894c0f0ada6186d8": {
          "model_module": "@jupyter-widgets/controls",
          "model_name": "ProgressStyleModel",
          "state": {
            "_view_name": "StyleView",
            "_model_name": "ProgressStyleModel",
            "description_width": "initial",
            "_view_module": "@jupyter-widgets/base",
            "_model_module_version": "1.5.0",
            "_view_count": null,
            "_view_module_version": "1.2.0",
            "bar_color": null,
            "_model_module": "@jupyter-widgets/controls"
          }
        },
        "68cfb6b84851489c820cedd8e6f4f7e5": {
          "model_module": "@jupyter-widgets/base",
          "model_name": "LayoutModel",
          "state": {
            "_view_name": "LayoutView",
            "grid_template_rows": null,
            "right": null,
            "justify_content": null,
            "_view_module": "@jupyter-widgets/base",
            "overflow": null,
            "_model_module_version": "1.2.0",
            "_view_count": null,
            "flex_flow": null,
            "width": null,
            "min_width": null,
            "border": null,
            "align_items": null,
            "bottom": null,
            "_model_module": "@jupyter-widgets/base",
            "top": null,
            "grid_column": null,
            "overflow_y": null,
            "overflow_x": null,
            "grid_auto_flow": null,
            "grid_area": null,
            "grid_template_columns": null,
            "flex": null,
            "_model_name": "LayoutModel",
            "justify_items": null,
            "grid_row": null,
            "max_height": null,
            "align_content": null,
            "visibility": null,
            "align_self": null,
            "height": null,
            "min_height": null,
            "padding": null,
            "grid_auto_rows": null,
            "grid_gap": null,
            "max_width": null,
            "order": null,
            "_view_module_version": "1.2.0",
            "grid_template_areas": null,
            "object_position": null,
            "object_fit": null,
            "grid_auto_columns": null,
            "margin": null,
            "display": null,
            "left": null
          }
        },
        "e2c2da0e2d9a4b5fbb9dd2972272acab": {
          "model_module": "@jupyter-widgets/controls",
          "model_name": "DescriptionStyleModel",
          "state": {
            "_view_name": "StyleView",
            "_model_name": "DescriptionStyleModel",
            "description_width": "",
            "_view_module": "@jupyter-widgets/base",
            "_model_module_version": "1.5.0",
            "_view_count": null,
            "_view_module_version": "1.2.0",
            "_model_module": "@jupyter-widgets/controls"
          }
        },
        "12b2d420c0384502ad2b279fee4a8b9d": {
          "model_module": "@jupyter-widgets/base",
          "model_name": "LayoutModel",
          "state": {
            "_view_name": "LayoutView",
            "grid_template_rows": null,
            "right": null,
            "justify_content": null,
            "_view_module": "@jupyter-widgets/base",
            "overflow": null,
            "_model_module_version": "1.2.0",
            "_view_count": null,
            "flex_flow": null,
            "width": null,
            "min_width": null,
            "border": null,
            "align_items": null,
            "bottom": null,
            "_model_module": "@jupyter-widgets/base",
            "top": null,
            "grid_column": null,
            "overflow_y": null,
            "overflow_x": null,
            "grid_auto_flow": null,
            "grid_area": null,
            "grid_template_columns": null,
            "flex": null,
            "_model_name": "LayoutModel",
            "justify_items": null,
            "grid_row": null,
            "max_height": null,
            "align_content": null,
            "visibility": null,
            "align_self": null,
            "height": null,
            "min_height": null,
            "padding": null,
            "grid_auto_rows": null,
            "grid_gap": null,
            "max_width": null,
            "order": null,
            "_view_module_version": "1.2.0",
            "grid_template_areas": null,
            "object_position": null,
            "object_fit": null,
            "grid_auto_columns": null,
            "margin": null,
            "display": null,
            "left": null
          }
        },
        "663a1c46b43748eaa423e7c3f36504f6": {
          "model_module": "@jupyter-widgets/controls",
          "model_name": "HBoxModel",
          "state": {
            "_view_name": "HBoxView",
            "_dom_classes": [],
            "_model_name": "HBoxModel",
            "_view_module": "@jupyter-widgets/controls",
            "_model_module_version": "1.5.0",
            "_view_count": null,
            "_view_module_version": "1.5.0",
            "box_style": "",
            "layout": "IPY_MODEL_96f4def9a1d041049f074b6a528b5e3b",
            "_model_module": "@jupyter-widgets/controls",
            "children": [
              "IPY_MODEL_10a73d15b4f047a9ad8173fa14c6a08d",
              "IPY_MODEL_4d40a28b7b224f009661d2c1268ca90e"
            ]
          }
        },
        "96f4def9a1d041049f074b6a528b5e3b": {
          "model_module": "@jupyter-widgets/base",
          "model_name": "LayoutModel",
          "state": {
            "_view_name": "LayoutView",
            "grid_template_rows": null,
            "right": null,
            "justify_content": null,
            "_view_module": "@jupyter-widgets/base",
            "overflow": null,
            "_model_module_version": "1.2.0",
            "_view_count": null,
            "flex_flow": null,
            "width": null,
            "min_width": null,
            "border": null,
            "align_items": null,
            "bottom": null,
            "_model_module": "@jupyter-widgets/base",
            "top": null,
            "grid_column": null,
            "overflow_y": null,
            "overflow_x": null,
            "grid_auto_flow": null,
            "grid_area": null,
            "grid_template_columns": null,
            "flex": null,
            "_model_name": "LayoutModel",
            "justify_items": null,
            "grid_row": null,
            "max_height": null,
            "align_content": null,
            "visibility": null,
            "align_self": null,
            "height": null,
            "min_height": null,
            "padding": null,
            "grid_auto_rows": null,
            "grid_gap": null,
            "max_width": null,
            "order": null,
            "_view_module_version": "1.2.0",
            "grid_template_areas": null,
            "object_position": null,
            "object_fit": null,
            "grid_auto_columns": null,
            "margin": null,
            "display": null,
            "left": null
          }
        },
        "10a73d15b4f047a9ad8173fa14c6a08d": {
          "model_module": "@jupyter-widgets/controls",
          "model_name": "FloatProgressModel",
          "state": {
            "_view_name": "ProgressView",
            "style": "IPY_MODEL_6d552c00fe99419f883aa4776fce1548",
            "_dom_classes": [],
            "description": "Downloading: 100%",
            "_model_name": "FloatProgressModel",
            "bar_style": "success",
            "max": 1961828,
            "_view_module": "@jupyter-widgets/controls",
            "_model_module_version": "1.5.0",
            "value": 1961828,
            "_view_count": null,
            "_view_module_version": "1.5.0",
            "orientation": "horizontal",
            "min": 0,
            "description_tooltip": null,
            "_model_module": "@jupyter-widgets/controls",
            "layout": "IPY_MODEL_f2d820445b1449caa1219e27aba9b1e3"
          }
        },
        "4d40a28b7b224f009661d2c1268ca90e": {
          "model_module": "@jupyter-widgets/controls",
          "model_name": "HTMLModel",
          "state": {
            "_view_name": "HTMLView",
            "style": "IPY_MODEL_f635a5266aad40d9b976bb7b1958344a",
            "_dom_classes": [],
            "description": "",
            "_model_name": "HTMLModel",
            "placeholder": "​",
            "_view_module": "@jupyter-widgets/controls",
            "_model_module_version": "1.5.0",
            "value": " 1.96M/1.96M [00:00&lt;00:00, 6.35MB/s]",
            "_view_count": null,
            "_view_module_version": "1.5.0",
            "description_tooltip": null,
            "_model_module": "@jupyter-widgets/controls",
            "layout": "IPY_MODEL_3d75b57f3d5f4bb291137a6ea7c5b712"
          }
        },
        "6d552c00fe99419f883aa4776fce1548": {
          "model_module": "@jupyter-widgets/controls",
          "model_name": "ProgressStyleModel",
          "state": {
            "_view_name": "StyleView",
            "_model_name": "ProgressStyleModel",
            "description_width": "initial",
            "_view_module": "@jupyter-widgets/base",
            "_model_module_version": "1.5.0",
            "_view_count": null,
            "_view_module_version": "1.2.0",
            "bar_color": null,
            "_model_module": "@jupyter-widgets/controls"
          }
        },
        "f2d820445b1449caa1219e27aba9b1e3": {
          "model_module": "@jupyter-widgets/base",
          "model_name": "LayoutModel",
          "state": {
            "_view_name": "LayoutView",
            "grid_template_rows": null,
            "right": null,
            "justify_content": null,
            "_view_module": "@jupyter-widgets/base",
            "overflow": null,
            "_model_module_version": "1.2.0",
            "_view_count": null,
            "flex_flow": null,
            "width": null,
            "min_width": null,
            "border": null,
            "align_items": null,
            "bottom": null,
            "_model_module": "@jupyter-widgets/base",
            "top": null,
            "grid_column": null,
            "overflow_y": null,
            "overflow_x": null,
            "grid_auto_flow": null,
            "grid_area": null,
            "grid_template_columns": null,
            "flex": null,
            "_model_name": "LayoutModel",
            "justify_items": null,
            "grid_row": null,
            "max_height": null,
            "align_content": null,
            "visibility": null,
            "align_self": null,
            "height": null,
            "min_height": null,
            "padding": null,
            "grid_auto_rows": null,
            "grid_gap": null,
            "max_width": null,
            "order": null,
            "_view_module_version": "1.2.0",
            "grid_template_areas": null,
            "object_position": null,
            "object_fit": null,
            "grid_auto_columns": null,
            "margin": null,
            "display": null,
            "left": null
          }
        },
        "f635a5266aad40d9b976bb7b1958344a": {
          "model_module": "@jupyter-widgets/controls",
          "model_name": "DescriptionStyleModel",
          "state": {
            "_view_name": "StyleView",
            "_model_name": "DescriptionStyleModel",
            "description_width": "",
            "_view_module": "@jupyter-widgets/base",
            "_model_module_version": "1.5.0",
            "_view_count": null,
            "_view_module_version": "1.2.0",
            "_model_module": "@jupyter-widgets/controls"
          }
        },
        "3d75b57f3d5f4bb291137a6ea7c5b712": {
          "model_module": "@jupyter-widgets/base",
          "model_name": "LayoutModel",
          "state": {
            "_view_name": "LayoutView",
            "grid_template_rows": null,
            "right": null,
            "justify_content": null,
            "_view_module": "@jupyter-widgets/base",
            "overflow": null,
            "_model_module_version": "1.2.0",
            "_view_count": null,
            "flex_flow": null,
            "width": null,
            "min_width": null,
            "border": null,
            "align_items": null,
            "bottom": null,
            "_model_module": "@jupyter-widgets/base",
            "top": null,
            "grid_column": null,
            "overflow_y": null,
            "overflow_x": null,
            "grid_auto_flow": null,
            "grid_area": null,
            "grid_template_columns": null,
            "flex": null,
            "_model_name": "LayoutModel",
            "justify_items": null,
            "grid_row": null,
            "max_height": null,
            "align_content": null,
            "visibility": null,
            "align_self": null,
            "height": null,
            "min_height": null,
            "padding": null,
            "grid_auto_rows": null,
            "grid_gap": null,
            "max_width": null,
            "order": null,
            "_view_module_version": "1.2.0",
            "grid_template_areas": null,
            "object_position": null,
            "object_fit": null,
            "grid_auto_columns": null,
            "margin": null,
            "display": null,
            "left": null
          }
        },
        "e2db657c8ee241d98cb3ff19c1ca273c": {
          "model_module": "@jupyter-widgets/controls",
          "model_name": "HBoxModel",
          "state": {
            "_view_name": "HBoxView",
            "_dom_classes": [],
            "_model_name": "HBoxModel",
            "_view_module": "@jupyter-widgets/controls",
            "_model_module_version": "1.5.0",
            "_view_count": null,
            "_view_module_version": "1.5.0",
            "box_style": "",
            "layout": "IPY_MODEL_e63c64eae1fd49078fc3b6799575b0cd",
            "_model_module": "@jupyter-widgets/controls",
            "children": [
              "IPY_MODEL_9332a22c8b214f8ebd149fcdf20bd0be",
              "IPY_MODEL_ccda857d627e4e67a68fdda410db6897"
            ]
          }
        },
        "e63c64eae1fd49078fc3b6799575b0cd": {
          "model_module": "@jupyter-widgets/base",
          "model_name": "LayoutModel",
          "state": {
            "_view_name": "LayoutView",
            "grid_template_rows": null,
            "right": null,
            "justify_content": null,
            "_view_module": "@jupyter-widgets/base",
            "overflow": null,
            "_model_module_version": "1.2.0",
            "_view_count": null,
            "flex_flow": null,
            "width": null,
            "min_width": null,
            "border": null,
            "align_items": null,
            "bottom": null,
            "_model_module": "@jupyter-widgets/base",
            "top": null,
            "grid_column": null,
            "overflow_y": null,
            "overflow_x": null,
            "grid_auto_flow": null,
            "grid_area": null,
            "grid_template_columns": null,
            "flex": null,
            "_model_name": "LayoutModel",
            "justify_items": null,
            "grid_row": null,
            "max_height": null,
            "align_content": null,
            "visibility": null,
            "align_self": null,
            "height": null,
            "min_height": null,
            "padding": null,
            "grid_auto_rows": null,
            "grid_gap": null,
            "max_width": null,
            "order": null,
            "_view_module_version": "1.2.0",
            "grid_template_areas": null,
            "object_position": null,
            "object_fit": null,
            "grid_auto_columns": null,
            "margin": null,
            "display": null,
            "left": null
          }
        },
        "9332a22c8b214f8ebd149fcdf20bd0be": {
          "model_module": "@jupyter-widgets/controls",
          "model_name": "FloatProgressModel",
          "state": {
            "_view_name": "ProgressView",
            "style": "IPY_MODEL_f73d75df91c444238936d9e7bd984522",
            "_dom_classes": [],
            "description": "Downloading: 100%",
            "_model_name": "FloatProgressModel",
            "bar_style": "success",
            "max": 910749124,
            "_view_module": "@jupyter-widgets/controls",
            "_model_module_version": "1.5.0",
            "value": 910749124,
            "_view_count": null,
            "_view_module_version": "1.5.0",
            "orientation": "horizontal",
            "min": 0,
            "description_tooltip": null,
            "_model_module": "@jupyter-widgets/controls",
            "layout": "IPY_MODEL_064ca7ad9ba94ba995397804a3b5c2c9"
          }
        },
        "ccda857d627e4e67a68fdda410db6897": {
          "model_module": "@jupyter-widgets/controls",
          "model_name": "HTMLModel",
          "state": {
            "_view_name": "HTMLView",
            "style": "IPY_MODEL_fcfeef141af341a98c7cf8d841965687",
            "_dom_classes": [],
            "description": "",
            "_model_name": "HTMLModel",
            "placeholder": "​",
            "_view_module": "@jupyter-widgets/controls",
            "_model_module_version": "1.5.0",
            "value": " 911M/911M [00:14&lt;00:00, 65.0MB/s]",
            "_view_count": null,
            "_view_module_version": "1.5.0",
            "description_tooltip": null,
            "_model_module": "@jupyter-widgets/controls",
            "layout": "IPY_MODEL_66dd1ce2c35a42a8b1ddaf11c03864f4"
          }
        },
        "f73d75df91c444238936d9e7bd984522": {
          "model_module": "@jupyter-widgets/controls",
          "model_name": "ProgressStyleModel",
          "state": {
            "_view_name": "StyleView",
            "_model_name": "ProgressStyleModel",
            "description_width": "initial",
            "_view_module": "@jupyter-widgets/base",
            "_model_module_version": "1.5.0",
            "_view_count": null,
            "_view_module_version": "1.2.0",
            "bar_color": null,
            "_model_module": "@jupyter-widgets/controls"
          }
        },
        "064ca7ad9ba94ba995397804a3b5c2c9": {
          "model_module": "@jupyter-widgets/base",
          "model_name": "LayoutModel",
          "state": {
            "_view_name": "LayoutView",
            "grid_template_rows": null,
            "right": null,
            "justify_content": null,
            "_view_module": "@jupyter-widgets/base",
            "overflow": null,
            "_model_module_version": "1.2.0",
            "_view_count": null,
            "flex_flow": null,
            "width": null,
            "min_width": null,
            "border": null,
            "align_items": null,
            "bottom": null,
            "_model_module": "@jupyter-widgets/base",
            "top": null,
            "grid_column": null,
            "overflow_y": null,
            "overflow_x": null,
            "grid_auto_flow": null,
            "grid_area": null,
            "grid_template_columns": null,
            "flex": null,
            "_model_name": "LayoutModel",
            "justify_items": null,
            "grid_row": null,
            "max_height": null,
            "align_content": null,
            "visibility": null,
            "align_self": null,
            "height": null,
            "min_height": null,
            "padding": null,
            "grid_auto_rows": null,
            "grid_gap": null,
            "max_width": null,
            "order": null,
            "_view_module_version": "1.2.0",
            "grid_template_areas": null,
            "object_position": null,
            "object_fit": null,
            "grid_auto_columns": null,
            "margin": null,
            "display": null,
            "left": null
          }
        },
        "fcfeef141af341a98c7cf8d841965687": {
          "model_module": "@jupyter-widgets/controls",
          "model_name": "DescriptionStyleModel",
          "state": {
            "_view_name": "StyleView",
            "_model_name": "DescriptionStyleModel",
            "description_width": "",
            "_view_module": "@jupyter-widgets/base",
            "_model_module_version": "1.5.0",
            "_view_count": null,
            "_view_module_version": "1.2.0",
            "_model_module": "@jupyter-widgets/controls"
          }
        },
        "66dd1ce2c35a42a8b1ddaf11c03864f4": {
          "model_module": "@jupyter-widgets/base",
          "model_name": "LayoutModel",
          "state": {
            "_view_name": "LayoutView",
            "grid_template_rows": null,
            "right": null,
            "justify_content": null,
            "_view_module": "@jupyter-widgets/base",
            "overflow": null,
            "_model_module_version": "1.2.0",
            "_view_count": null,
            "flex_flow": null,
            "width": null,
            "min_width": null,
            "border": null,
            "align_items": null,
            "bottom": null,
            "_model_module": "@jupyter-widgets/base",
            "top": null,
            "grid_column": null,
            "overflow_y": null,
            "overflow_x": null,
            "grid_auto_flow": null,
            "grid_area": null,
            "grid_template_columns": null,
            "flex": null,
            "_model_name": "LayoutModel",
            "justify_items": null,
            "grid_row": null,
            "max_height": null,
            "align_content": null,
            "visibility": null,
            "align_self": null,
            "height": null,
            "min_height": null,
            "padding": null,
            "grid_auto_rows": null,
            "grid_gap": null,
            "max_width": null,
            "order": null,
            "_view_module_version": "1.2.0",
            "grid_template_areas": null,
            "object_position": null,
            "object_fit": null,
            "grid_auto_columns": null,
            "margin": null,
            "display": null,
            "left": null
          }
        }
      }
    }
  },
  "cells": [
    {
      "cell_type": "markdown",
      "metadata": {
        "id": "I3XO86iKyh7Q"
      },
      "source": [
        "# Libraries"
      ]
    },
    {
      "cell_type": "code",
      "metadata": {
        "id": "nu9YCicx65Wg"
      },
      "source": [
        "# Libraries\n",
        "\n",
        "import numpy as np\n",
        "import pandas as pd\n",
        "import re\n",
        "import nltk\n",
        "nltk.download('punkt')\n",
        "\n",
        "!pip install ktrain\n",
        "import keras\n",
        "import ktrain\n",
        "from ktrain import text"
      ],
      "execution_count": null,
      "outputs": []
    },
    {
      "cell_type": "markdown",
      "metadata": {
        "id": "wxfkD70vu1iK"
      },
      "source": [
        "# Functions"
      ]
    },
    {
      "cell_type": "code",
      "metadata": {
        "id": "NxfHgzeN7fVu"
      },
      "source": [
        "# test dataset - tweets - the sentences are merged into a single tweet\n",
        "\n",
        "def dataframe_full_text(dataframe):\n",
        "  del dataframe['Unnamed: 0']\n",
        "  del dataframe['sentence']\n",
        "  lines, columns = dataframe.shape\n",
        "\n",
        "  if columns == 2:\n",
        "    df_final_test = dataframe\n",
        "    df_final_test.columns = ['sentence','target']\n",
        "\n",
        "  if columns > 2:\n",
        "    target = dataframe['target']\n",
        "    del dataframe['target']\n",
        "    lines, columns = dataframe.shape\n",
        "    array_test = np.array(dataframe)\n",
        "    array_empty = []\n",
        "    \n",
        "    for line in range(lines):\n",
        "      final_list = []\n",
        "      for column in range(0,columns-1,2):\n",
        "        string = str(array_test[line][column])\n",
        "        if string != '' and string != '??' and string != 'nan':\n",
        "          if '1.0' in string:\n",
        "            string = re.sub(r'1.0','1',string)\n",
        "          if '2.0' in string:\n",
        "            string = re.sub(r'2.0','2',string)\n",
        "          if '3.0' in string:\n",
        "            string = re.sub(r'3.0','3',string)\n",
        "          if '4.0' in string:\n",
        "            string = re.sub(r'4.0','4',string)\n",
        "          if '5.0' in string:\n",
        "            string = re.sub(r'5.0','5',string)\n",
        "          final_list.append(string)\n",
        "      final_string = ' '.join(final_list)\n",
        "      array_empty.append(final_string)\n",
        "\n",
        "    df_string_concat = pd.DataFrame(array_empty)\n",
        "    df_final_test = pd.concat((df_string_concat, target), axis = 1)\n",
        "    df_final_test.columns = ['sentence','target']\n",
        "\n",
        "  return df_final_test"
      ],
      "execution_count": null,
      "outputs": []
    },
    {
      "cell_type": "code",
      "metadata": {
        "id": "TMt1LvN4iTxR"
      },
      "source": [
        "# test dataset - sentences - the dataset comprises only sentences\n",
        "\n",
        "def dataframe_sentences(dataframe):\n",
        "  del dataframe['Unnamed: 0']\n",
        "  del dataframe['sentence']\n",
        "  lines, columns = dataframe.shape\n",
        "\n",
        "  if columns == 2:\n",
        "    df = dataframe\n",
        "\n",
        "  if columns > 2:\n",
        "    del dataframe['target']\n",
        "    lines, columns = dataframe.shape\n",
        "    array_test = np.array(dataframe)\n",
        "    sentence_target_list = []\n",
        "    \n",
        "    for line in range(lines):\n",
        "      for column in range(0,columns):\n",
        "        string = str(array_test[line][column])\n",
        "\n",
        "        if string != '' and string != '??' and string != 'nan' and string != 'NaN':\n",
        "          if ((len(sentence_target_list) != 0) and ((sentence_target_list[-1] == '1') or (sentence_target_list[-1] == '2') or (sentence_target_list[-1] == '3') or (sentence_target_list[-1] == '4') or (sentence_target_list[-1] == '5')) and ((string != '1') or (string != '2') or (string != '3') or (string != '4') or (string != '5'))):\n",
        "            if '1.0' in string:\n",
        "              string = re.sub(r'1.0','1',string)\n",
        "            if '2.0' in string:\n",
        "              string = re.sub(r'2.0','2',string)\n",
        "            if '3.0' in string:\n",
        "              string = re.sub(r'3.0','3',string)\n",
        "            if '4.0' in string:\n",
        "              string = re.sub(r'4.0','4',string)\n",
        "            if '5.0' in string:\n",
        "              string = re.sub(r'5.0','5',string)\n",
        "            sentence_target_list.append(string)\n",
        "          if ((len(sentence_target_list) != 0) and ((sentence_target_list[-1] != '1') or (sentence_target_list[-1] != '2') or (sentence_target_list[-1] != '3') or (sentence_target_list[-1] != '4') or (sentence_target_list[-1] != '5')) and ((string == '1') or (string == '2') or (string == '3') or (string == '4') or (string == '5'))):\n",
        "            if '1.0' in string:\n",
        "              string = re.sub(r'1.0','1',string)\n",
        "            if '2.0' in string:\n",
        "              string = re.sub(r'2.0','2',string)\n",
        "            if '3.0' in string:\n",
        "              string = re.sub(r'3.0','3',string)\n",
        "            if '4.0' in string:\n",
        "              string = re.sub(r'4.0','4',string)\n",
        "            if '5.0' in string:\n",
        "              string = re.sub(r'5.0','5',string)\n",
        "            sentence_target_list.append(string)\n",
        "          if len(sentence_target_list) == 0:\n",
        "            sentence_target_list.append(string)\n",
        "\n",
        "    length = len(sentence_target_list)\n",
        "    lines = int(length/2)\n",
        "    columns = 2\n",
        "    list_to_array = np.array(sentence_target_list)\n",
        "    final_array = np.reshape(list_to_array, (lines, columns))\n",
        "    df = pd.DataFrame(final_array)\n",
        "  df.columns = ['sentence','target']\n",
        "\n",
        "  return df"
      ],
      "execution_count": null,
      "outputs": []
    },
    {
      "cell_type": "code",
      "metadata": {
        "id": "-wwW_6wXeHzK"
      },
      "source": [
        "# classification - one-hot\n",
        "\n",
        "def one_hot(dataframe):\n",
        "  list_01 = [1,0,0,0,0]\n",
        "  list_02 = [0,1,0,0,0]\n",
        "  list_03 = [0,0,1,0,0]\n",
        "  list_04 = [0,0,0,1,0]\n",
        "  list_05 = [0,0,0,0,1]\n",
        "  lines, columns = dataframe.shape\n",
        "  df_array = np.array(dataframe)\n",
        "  one_hot_vectors = []\n",
        "\n",
        "  for i in range(lines):\n",
        "    if df_array[i][1] == 1 or df_array[i][1] == 1.0:\n",
        "      one_hot_vectors.append(list_01)\n",
        "    elif df_array[i][1] == 2 or df_array[i][1] == 2.0:\n",
        "      one_hot_vectors.append(list_02)\n",
        "    elif df_array[i][1] == 3 or df_array[i][1] == 3.0:\n",
        "      one_hot_vectors.append(list_03)\n",
        "    elif df_array[i][1] == 4 or df_array[i][1] == 4.0:\n",
        "      one_hot_vectors.append(list_04)\n",
        "    elif df_array[i][1] == 5 or df_array[i][1] == 5.0:\n",
        "      one_hot_vectors.append(list_05)\n",
        "\n",
        "  one_hot_array = np.array(one_hot_vectors).reshape(len(one_hot_vectors),5)\n",
        "  one_hot_dataframe = pd.DataFrame(one_hot_array)\n",
        "  del dataframe['target']\n",
        "  df_one_hot = pd.concat((dataframe,one_hot_dataframe), axis = 1)\n",
        "  df_one_hot.columns = ['sentence', '01','02','03','04','05']\n",
        "\n",
        "  return df_one_hot"
      ],
      "execution_count": null,
      "outputs": []
    },
    {
      "cell_type": "markdown",
      "metadata": {
        "id": "tWkA-7EEsnmC"
      },
      "source": [
        "# Loading files"
      ]
    },
    {
      "cell_type": "code",
      "metadata": {
        "id": "9VyGUODFD9qw"
      },
      "source": [
        "# Loading files to dataframe\n",
        "\n",
        "# train dataset\n",
        "df_train = one_hot(dataframe_sentences(pd.read_excel('train_bert.xlsx')))\n",
        "\n",
        "# test dataset\n",
        "df_test_sentence = one_hot(dataframe_sentences(pd.read_excel('test_bert.xlsx')))\n",
        "df_test_tweet = one_hot(dataframe_full_text(pd.read_excel('test_bert.xlsx')))"
      ],
      "execution_count": null,
      "outputs": []
    },
    {
      "cell_type": "markdown",
      "metadata": {
        "id": "KhEYYJc0KY8e"
      },
      "source": [
        "# Test 01"
      ]
    },
    {
      "cell_type": "code",
      "metadata": {
        "id": "4nqBcIKd-Vxu",
        "outputId": "02bec8f9-6fd8-4a0e-ac7d-606c8dfb6f78",
        "colab": {
          "base_uri": "https://localhost:8080/",
          "height": 407,
          "referenced_widgets": [
            "440f4567a6aa4af586b3f564e6694d98",
            "7a76121292bd4d4c9948d1ce94e6dfdc",
            "7f00de1691034661961ed400ebc418d5",
            "9a5f7d06923b4f8f94f297d899420f35",
            "5051be9a9db64d288086cc873b7d0a8a",
            "53ca1b07e0fa4e5fbb4c297edceb9128",
            "bbb847fd274e4c6f9387a53188ab961f",
            "dfc31c4ffbef45ef8e38f6fb2108be1b",
            "0cba8c9bc0df4315aef7e7ac17dae846",
            "48f49f01c2d34d6886a6627c84941238",
            "4bce8387d60748859d8ad323f07f86a5",
            "b9c5668a2fc84e08ad763cab2469226a",
            "a2a4b08c0e3744ac894c0f0ada6186d8",
            "68cfb6b84851489c820cedd8e6f4f7e5",
            "e2c2da0e2d9a4b5fbb9dd2972272acab",
            "12b2d420c0384502ad2b279fee4a8b9d",
            "663a1c46b43748eaa423e7c3f36504f6",
            "96f4def9a1d041049f074b6a528b5e3b",
            "10a73d15b4f047a9ad8173fa14c6a08d",
            "4d40a28b7b224f009661d2c1268ca90e",
            "6d552c00fe99419f883aa4776fce1548",
            "f2d820445b1449caa1219e27aba9b1e3",
            "f635a5266aad40d9b976bb7b1958344a",
            "3d75b57f3d5f4bb291137a6ea7c5b712"
          ]
        }
      },
      "source": [
        "# Create vectors https://github.com/amaiya/ktrain/blob/master/ktrain/text/data.py\n",
        "(train_data_00), (test_data_00), preproc = text.texts_from_df(df_train, text_column='sentence',\n",
        "                                                                                      label_columns=['01','02','03','04','05'],\n",
        "                                                                                      maxlen=64,\n",
        "                                                                                      preprocess_mode = 'distilbert',\n",
        "                                                                                      lang = None,\n",
        "                                                                                      ngram_range=1,\n",
        "                                                                                      val_df = df_test_sentence,\n",
        "                                                                                      random_state = 42,\n",
        "                                                                                      )"
      ],
      "execution_count": null,
      "outputs": [
        {
          "output_type": "display_data",
          "data": {
            "application/vnd.jupyter.widget-view+json": {
              "model_id": "440f4567a6aa4af586b3f564e6694d98",
              "version_minor": 0,
              "version_major": 2
            },
            "text/plain": [
              "HBox(children=(FloatProgress(value=0.0, description='Downloading', max=466.0, style=ProgressStyle(description_…"
            ]
          },
          "metadata": {
            "tags": []
          }
        },
        {
          "output_type": "stream",
          "text": [
            "\n",
            "preprocessing train...\n",
            "language: pt\n",
            "train sequence lengths:\n",
            "\tmean : 10\n",
            "\t95percentile : 27\n",
            "\t99percentile : 39\n"
          ],
          "name": "stdout"
        },
        {
          "output_type": "display_data",
          "data": {
            "application/vnd.jupyter.widget-view+json": {
              "model_id": "0cba8c9bc0df4315aef7e7ac17dae846",
              "version_minor": 0,
              "version_major": 2
            },
            "text/plain": [
              "HBox(children=(FloatProgress(value=0.0, description='Downloading', max=995526.0, style=ProgressStyle(descripti…"
            ]
          },
          "metadata": {
            "tags": []
          }
        },
        {
          "output_type": "stream",
          "text": [
            "\n"
          ],
          "name": "stdout"
        },
        {
          "output_type": "display_data",
          "data": {
            "application/vnd.jupyter.widget-view+json": {
              "model_id": "663a1c46b43748eaa423e7c3f36504f6",
              "version_minor": 0,
              "version_major": 2
            },
            "text/plain": [
              "HBox(children=(FloatProgress(value=0.0, description='Downloading', max=1961828.0, style=ProgressStyle(descript…"
            ]
          },
          "metadata": {
            "tags": []
          }
        },
        {
          "output_type": "stream",
          "text": [
            "\n"
          ],
          "name": "stdout"
        },
        {
          "output_type": "display_data",
          "data": {
            "text/html": [
              ""
            ],
            "text/plain": [
              "<IPython.core.display.HTML object>"
            ]
          },
          "metadata": {
            "tags": []
          }
        },
        {
          "output_type": "stream",
          "text": [
            "Is Multi-Label? False\n",
            "preprocessing test...\n",
            "language: pt\n",
            "test sequence lengths:\n",
            "\tmean : 8\n",
            "\t95percentile : 22\n",
            "\t99percentile : 33\n"
          ],
          "name": "stdout"
        },
        {
          "output_type": "display_data",
          "data": {
            "text/html": [
              ""
            ],
            "text/plain": [
              "<IPython.core.display.HTML object>"
            ]
          },
          "metadata": {
            "tags": []
          }
        }
      ]
    },
    {
      "cell_type": "code",
      "metadata": {
        "id": "c9vUVhaiYfw5",
        "outputId": "d0d76ead-6686-48c7-da75-3e65f09a63ae",
        "colab": {
          "base_uri": "https://localhost:8080/",
          "height": 583,
          "referenced_widgets": [
            "e2db657c8ee241d98cb3ff19c1ca273c",
            "e63c64eae1fd49078fc3b6799575b0cd",
            "9332a22c8b214f8ebd149fcdf20bd0be",
            "ccda857d627e4e67a68fdda410db6897",
            "f73d75df91c444238936d9e7bd984522",
            "064ca7ad9ba94ba995397804a3b5c2c9",
            "fcfeef141af341a98c7cf8d841965687",
            "66dd1ce2c35a42a8b1ddaf11c03864f4"
          ]
        }
      },
      "source": [
        "learn_distilbert_test_01 = ktrain.get_learner(text.text_classifier('distilbert', (train_data_00) , preproc=preproc), \n",
        "                             train_data=(train_data_00), \n",
        "                             val_data=(test_data_00), batch_size = 5\n",
        "                             )\n",
        "\n",
        "learn_distilbert_test_01.fit_onecycle(0.01,3)\n",
        "\n",
        "learn_distilbert_test_01.validate()"
      ],
      "execution_count": null,
      "outputs": [
        {
          "output_type": "stream",
          "text": [
            "Is Multi-Label? False\n",
            "maxlen is 64\n"
          ],
          "name": "stdout"
        },
        {
          "output_type": "display_data",
          "data": {
            "application/vnd.jupyter.widget-view+json": {
              "model_id": "e2db657c8ee241d98cb3ff19c1ca273c",
              "version_minor": 0,
              "version_major": 2
            },
            "text/plain": [
              "HBox(children=(FloatProgress(value=0.0, description='Downloading', max=910749124.0, style=ProgressStyle(descri…"
            ]
          },
          "metadata": {
            "tags": []
          }
        },
        {
          "output_type": "stream",
          "text": [
            "\n",
            "done.\n",
            "\n",
            "\n",
            "begin training using onecycle policy with max lr of 0.01...\n",
            "Epoch 1/3\n",
            "234/234 [==============================] - 664s 3s/step - loss: 1.3273 - accuracy: 0.3573 - val_loss: -95760197206453256192.0000 - val_accuracy: 0.0000e+00\n",
            "Epoch 2/3\n",
            "234/234 [==============================] - 667s 3s/step - loss: 1.3904 - accuracy: 0.3368 - val_loss: -84692873801073950720.0000 - val_accuracy: 0.0000e+00\n",
            "Epoch 3/3\n",
            "234/234 [==============================] - 666s 3s/step - loss: 1.2490 - accuracy: 0.3419 - val_loss: -91717363319865081856.0000 - val_accuracy: 0.0000e+00\n",
            "              precision    recall  f1-score   support\n",
            "\n",
            "           0       0.00      0.00      0.00     218.0\n",
            "           3       0.00      0.00      0.00       0.0\n",
            "\n",
            "    accuracy                           0.00     218.0\n",
            "   macro avg       0.00      0.00      0.00     218.0\n",
            "weighted avg       0.00      0.00      0.00     218.0\n",
            "\n"
          ],
          "name": "stdout"
        },
        {
          "output_type": "stream",
          "text": [
            "/usr/local/lib/python3.6/dist-packages/sklearn/metrics/_classification.py:1272: UndefinedMetricWarning: Precision and F-score are ill-defined and being set to 0.0 in labels with no predicted samples. Use `zero_division` parameter to control this behavior.\n",
            "  _warn_prf(average, modifier, msg_start, len(result))\n",
            "/usr/local/lib/python3.6/dist-packages/sklearn/metrics/_classification.py:1272: UndefinedMetricWarning: Recall and F-score are ill-defined and being set to 0.0 in labels with no true samples. Use `zero_division` parameter to control this behavior.\n",
            "  _warn_prf(average, modifier, msg_start, len(result))\n"
          ],
          "name": "stderr"
        },
        {
          "output_type": "execute_result",
          "data": {
            "text/plain": [
              "array([[  0, 218],\n",
              "       [  0,   0]])"
            ]
          },
          "metadata": {
            "tags": []
          },
          "execution_count": 8
        }
      ]
    },
    {
      "cell_type": "markdown",
      "metadata": {
        "id": "l7a3jVqrjacw"
      },
      "source": [
        "# Test 02"
      ]
    },
    {
      "cell_type": "code",
      "metadata": {
        "id": "r5qEYhDELDCU",
        "outputId": "b01bfecb-2754-40e7-951c-e735c9d63f19",
        "colab": {
          "base_uri": "https://localhost:8080/",
          "height": 845
        }
      },
      "source": [
        "(train_data_01), (test_data_01), preproc01 = text.texts_from_df(df_train, text_column = 'sentence',\n",
        "                                                                                    label_columns = ['01','02','03','04','05'],\n",
        "                                                                                    maxlen = 64, \n",
        "                                                                                    preprocess_mode = 'distilbert',\n",
        "                                                                                    lang = None,\n",
        "                                                                                    ngram_range = 1,\n",
        "                                                                                    val_df = df_test_tweet,\n",
        "                                                                                    random_state = 42\n",
        "                                                                                    )\n",
        "\n",
        "learn_distilbert_test_02 = ktrain.get_learner(text.text_classifier('distilbert', (train_data_01) , preproc = preproc01), \n",
        "                             train_data = (train_data_01), \n",
        "                             val_data = (test_data_01), batch_size = 10\n",
        "                             )\n",
        "\n",
        "learn_distilbert_test_02.fit_onecycle(0.01,3)\n",
        "\n",
        "learn_distilbert_test_02.validate()"
      ],
      "execution_count": null,
      "outputs": [
        {
          "output_type": "stream",
          "text": [
            "preprocessing train...\n",
            "language: pt\n",
            "train sequence lengths:\n",
            "\tmean : 10\n",
            "\t95percentile : 27\n",
            "\t99percentile : 39\n"
          ],
          "name": "stdout"
        },
        {
          "output_type": "display_data",
          "data": {
            "text/html": [
              ""
            ],
            "text/plain": [
              "<IPython.core.display.HTML object>"
            ]
          },
          "metadata": {
            "tags": []
          }
        },
        {
          "output_type": "stream",
          "text": [
            "Is Multi-Label? False\n",
            "preprocessing test...\n",
            "language: pt\n",
            "test sequence lengths:\n",
            "\tmean : 18\n",
            "\t95percentile : 42\n",
            "\t99percentile : 49\n"
          ],
          "name": "stdout"
        },
        {
          "output_type": "display_data",
          "data": {
            "text/html": [
              ""
            ],
            "text/plain": [
              "<IPython.core.display.HTML object>"
            ]
          },
          "metadata": {
            "tags": []
          }
        },
        {
          "output_type": "stream",
          "text": [
            "Is Multi-Label? False\n",
            "maxlen is 64\n",
            "done.\n",
            "\n",
            "\n",
            "begin training using onecycle policy with max lr of 0.01...\n",
            "Epoch 1/3\n",
            "117/117 [==============================] - 518s 4s/step - loss: 1.3269 - accuracy: 0.3308 - val_loss: 1.5319 - val_accuracy: 0.0780\n",
            "Epoch 2/3\n",
            "117/117 [==============================] - 516s 4s/step - loss: 1.2841 - accuracy: 0.3479 - val_loss: 1.4342 - val_accuracy: 0.4358\n",
            "Epoch 3/3\n",
            "117/117 [==============================] - 518s 4s/step - loss: 1.2383 - accuracy: 0.3513 - val_loss: 1.4967 - val_accuracy: 0.4358\n",
            "              precision    recall  f1-score   support\n",
            "\n",
            "           0       0.00      0.00      0.00         1\n",
            "           1       0.00      0.00      0.00        80\n",
            "           2       0.00      0.00      0.00        17\n",
            "           3       0.44      1.00      0.61        95\n",
            "           4       0.00      0.00      0.00        25\n",
            "\n",
            "    accuracy                           0.44       218\n",
            "   macro avg       0.09      0.20      0.12       218\n",
            "weighted avg       0.19      0.44      0.26       218\n",
            "\n"
          ],
          "name": "stdout"
        },
        {
          "output_type": "stream",
          "text": [
            "/usr/local/lib/python3.6/dist-packages/sklearn/metrics/_classification.py:1272: UndefinedMetricWarning: Precision and F-score are ill-defined and being set to 0.0 in labels with no predicted samples. Use `zero_division` parameter to control this behavior.\n",
            "  _warn_prf(average, modifier, msg_start, len(result))\n"
          ],
          "name": "stderr"
        },
        {
          "output_type": "execute_result",
          "data": {
            "text/plain": [
              "array([[ 0,  0,  0,  1,  0],\n",
              "       [ 0,  0,  0, 80,  0],\n",
              "       [ 0,  0,  0, 17,  0],\n",
              "       [ 0,  0,  0, 95,  0],\n",
              "       [ 0,  0,  0, 25,  0]])"
            ]
          },
          "metadata": {
            "tags": []
          },
          "execution_count": 9
        }
      ]
    },
    {
      "cell_type": "markdown",
      "metadata": {
        "id": "U0BYq55rFuay"
      },
      "source": [
        "# Load files"
      ]
    },
    {
      "cell_type": "code",
      "metadata": {
        "id": "w5iXr_WPYv9B"
      },
      "source": [
        "# Loading files to dataframe\n",
        "\n",
        "# train dataset\n",
        "df_train = one_hot(dataframe_sentences(pd.read_excel('train_bag.xlsx')))\n",
        "\n",
        "# test dataset\n",
        "df_test_sentence = one_hot(dataframe_sentences(pd.read_excel('test_bag.xlsx')))\n",
        "df_test_tweet = one_hot(dataframe_full_text(pd.read_excel('test_bag.xlsx')))"
      ],
      "execution_count": null,
      "outputs": []
    },
    {
      "cell_type": "markdown",
      "metadata": {
        "id": "E-UMU38nD7EA"
      },
      "source": [
        "# Test 03"
      ]
    },
    {
      "cell_type": "code",
      "metadata": {
        "id": "iIvL0aQxEpyz",
        "outputId": "dcd18e78-9d1d-46fd-c639-c04829e70132",
        "colab": {
          "base_uri": "https://localhost:8080/",
          "height": 256
        }
      },
      "source": [
        "# Create vectors https://github.com/amaiya/ktrain/blob/master/ktrain/text/data.py\n",
        "(train_data_00), (test_data_00), preproc = text.texts_from_df(df_train, text_column='sentence',\n",
        "                                                                                      label_columns=['01','02','03','04','05'],\n",
        "                                                                                      maxlen=64,\n",
        "                                                                                      preprocess_mode = 'distilbert',\n",
        "                                                                                      lang = None,\n",
        "                                                                                      ngram_range=1,\n",
        "                                                                                      val_df = df_test_sentence,\n",
        "                                                                                      random_state = 42,\n",
        "                                                                                      )\n"
      ],
      "execution_count": null,
      "outputs": [
        {
          "output_type": "stream",
          "text": [
            "preprocessing train...\n",
            "language: pt\n",
            "train sequence lengths:\n",
            "\tmean : 6\n",
            "\t95percentile : 16\n",
            "\t99percentile : 23\n"
          ],
          "name": "stdout"
        },
        {
          "output_type": "display_data",
          "data": {
            "text/html": [
              ""
            ],
            "text/plain": [
              "<IPython.core.display.HTML object>"
            ]
          },
          "metadata": {
            "tags": []
          }
        },
        {
          "output_type": "stream",
          "text": [
            "Is Multi-Label? False\n",
            "preprocessing test...\n",
            "language: pt\n",
            "test sequence lengths:\n",
            "\tmean : 5\n",
            "\t95percentile : 13\n",
            "\t99percentile : 19\n"
          ],
          "name": "stdout"
        },
        {
          "output_type": "display_data",
          "data": {
            "text/html": [
              ""
            ],
            "text/plain": [
              "<IPython.core.display.HTML object>"
            ]
          },
          "metadata": {
            "tags": []
          }
        }
      ]
    },
    {
      "cell_type": "code",
      "metadata": {
        "id": "7Pi4XhggEuKz",
        "outputId": "dee3ef52-b718-4b29-9a4c-52e6300d60ae",
        "colab": {
          "base_uri": "https://localhost:8080/",
          "height": 583,
          "referenced_widgets": [
            "f5319969f3a64d8d89b53aac322b9ba9",
            "da9b2660e4d64dcfbaf0c9862fcd5c2e",
            "25414e00238d4925b4821e51cff7036a",
            "d65ab66a429549fe91f9ed802a34f559",
            "5eb1442496ec4542999fe13024e49ae2",
            "99ce67447ea9402bbdeedcfe2dbde1b7",
            "c0d0d3092381458e8825aeaf41c5eb73",
            "1ce39fc99ef641c4b1bf5680b2cbd29e"
          ]
        }
      },
      "source": [
        "learn_distilbert_test_01 = ktrain.get_learner(text.text_classifier('distilbert', (train_data_00) , preproc=preproc), \n",
        "                             train_data=(train_data_00), \n",
        "                             val_data=(test_data_00), batch_size = 5\n",
        "                             )\n",
        "\n",
        "learn_distilbert_test_01.fit_onecycle(0.01,3)\n",
        "\n",
        "learn_distilbert_test_01.validate()"
      ],
      "execution_count": null,
      "outputs": [
        {
          "output_type": "stream",
          "text": [
            "Is Multi-Label? False\n",
            "maxlen is 64\n"
          ],
          "name": "stdout"
        },
        {
          "output_type": "display_data",
          "data": {
            "application/vnd.jupyter.widget-view+json": {
              "model_id": "f5319969f3a64d8d89b53aac322b9ba9",
              "version_minor": 0,
              "version_major": 2
            },
            "text/plain": [
              "HBox(children=(FloatProgress(value=0.0, description='Downloading', max=910749124.0, style=ProgressStyle(descri…"
            ]
          },
          "metadata": {
            "tags": []
          }
        },
        {
          "output_type": "stream",
          "text": [
            "\n",
            "done.\n",
            "\n",
            "\n",
            "begin training using onecycle policy with max lr of 0.01...\n",
            "Epoch 1/3\n",
            "234/234 [==============================] - 645s 3s/step - loss: 1.2981 - accuracy: 0.3624 - val_loss: -160613808651378884608.0000 - val_accuracy: 0.0000e+00\n",
            "Epoch 2/3\n",
            "234/234 [==============================] - 645s 3s/step - loss: 1.3111 - accuracy: 0.3385 - val_loss: -117635148166824198144.0000 - val_accuracy: 0.0000e+00\n",
            "Epoch 3/3\n",
            "234/234 [==============================] - 645s 3s/step - loss: 1.2301 - accuracy: 0.3530 - val_loss: -110776245099176132608.0000 - val_accuracy: 0.0000e+00\n",
            "              precision    recall  f1-score   support\n",
            "\n",
            "           0       0.00      0.00      0.00     218.0\n",
            "           2       0.00      0.00      0.00       0.0\n",
            "\n",
            "    accuracy                           0.00     218.0\n",
            "   macro avg       0.00      0.00      0.00     218.0\n",
            "weighted avg       0.00      0.00      0.00     218.0\n",
            "\n"
          ],
          "name": "stdout"
        },
        {
          "output_type": "stream",
          "text": [
            "/usr/local/lib/python3.6/dist-packages/sklearn/metrics/_classification.py:1272: UndefinedMetricWarning: Precision and F-score are ill-defined and being set to 0.0 in labels with no predicted samples. Use `zero_division` parameter to control this behavior.\n",
            "  _warn_prf(average, modifier, msg_start, len(result))\n",
            "/usr/local/lib/python3.6/dist-packages/sklearn/metrics/_classification.py:1272: UndefinedMetricWarning: Recall and F-score are ill-defined and being set to 0.0 in labels with no true samples. Use `zero_division` parameter to control this behavior.\n",
            "  _warn_prf(average, modifier, msg_start, len(result))\n"
          ],
          "name": "stderr"
        },
        {
          "output_type": "execute_result",
          "data": {
            "text/plain": [
              "array([[  0, 218],\n",
              "       [  0,   0]])"
            ]
          },
          "metadata": {
            "tags": []
          },
          "execution_count": 18
        }
      ]
    },
    {
      "cell_type": "markdown",
      "metadata": {
        "id": "Fd33Ohe5D-qm"
      },
      "source": [
        "# Test 04"
      ]
    },
    {
      "cell_type": "code",
      "metadata": {
        "id": "xYcpEg76E1Qi",
        "outputId": "ba3804c3-21a0-49e2-afd0-995c6883010b",
        "colab": {
          "base_uri": "https://localhost:8080/",
          "height": 845
        }
      },
      "source": [
        "(train_data_01), (test_data_01), preproc01 = text.texts_from_df(df_train, text_column = 'sentence',\n",
        "                                                                                    label_columns = ['01','02','03','04','05'],\n",
        "                                                                                    maxlen = 64, \n",
        "                                                                                    preprocess_mode = 'distilbert',\n",
        "                                                                                    lang = None,\n",
        "                                                                                    ngram_range = 1,\n",
        "                                                                                    val_df = df_test_tweet,\n",
        "                                                                                    random_state = 42\n",
        "                                                                                    )\n",
        "\n",
        "learn_distilbert_test_02 = ktrain.get_learner(text.text_classifier('distilbert', (train_data_01) , preproc = preproc01), \n",
        "                             train_data = (train_data_01), \n",
        "                             val_data = (test_data_01), batch_size = 10\n",
        "                             )\n",
        "\n",
        "learn_distilbert_test_02.fit_onecycle(0.01,3)\n",
        "\n",
        "learn_distilbert_test_02.validate()"
      ],
      "execution_count": null,
      "outputs": [
        {
          "output_type": "stream",
          "text": [
            "preprocessing train...\n",
            "language: pt\n",
            "train sequence lengths:\n",
            "\tmean : 6\n",
            "\t95percentile : 16\n",
            "\t99percentile : 23\n"
          ],
          "name": "stdout"
        },
        {
          "output_type": "display_data",
          "data": {
            "text/html": [
              ""
            ],
            "text/plain": [
              "<IPython.core.display.HTML object>"
            ]
          },
          "metadata": {
            "tags": []
          }
        },
        {
          "output_type": "stream",
          "text": [
            "Is Multi-Label? False\n",
            "preprocessing test...\n",
            "language: pt\n",
            "test sequence lengths:\n",
            "\tmean : 11\n",
            "\t95percentile : 25\n",
            "\t99percentile : 31\n"
          ],
          "name": "stdout"
        },
        {
          "output_type": "display_data",
          "data": {
            "text/html": [
              ""
            ],
            "text/plain": [
              "<IPython.core.display.HTML object>"
            ]
          },
          "metadata": {
            "tags": []
          }
        },
        {
          "output_type": "stream",
          "text": [
            "Is Multi-Label? False\n",
            "maxlen is 64\n",
            "done.\n",
            "\n",
            "\n",
            "begin training using onecycle policy with max lr of 0.01...\n",
            "Epoch 1/3\n",
            "117/117 [==============================] - 506s 4s/step - loss: 1.3511 - accuracy: 0.3308 - val_loss: 1.3632 - val_accuracy: 0.4358\n",
            "Epoch 2/3\n",
            "117/117 [==============================] - 501s 4s/step - loss: 1.2639 - accuracy: 0.3376 - val_loss: 1.6550 - val_accuracy: 0.0780\n",
            "Epoch 3/3\n",
            "117/117 [==============================] - 501s 4s/step - loss: 1.2413 - accuracy: 0.3581 - val_loss: 1.4909 - val_accuracy: 0.0780\n",
            "              precision    recall  f1-score   support\n",
            "\n",
            "           0       0.00      0.00      0.00         1\n",
            "           1       0.00      0.00      0.00        80\n",
            "           2       0.08      1.00      0.14        17\n",
            "           3       0.00      0.00      0.00        95\n",
            "           4       0.00      0.00      0.00        25\n",
            "\n",
            "    accuracy                           0.08       218\n",
            "   macro avg       0.02      0.20      0.03       218\n",
            "weighted avg       0.01      0.08      0.01       218\n",
            "\n"
          ],
          "name": "stdout"
        },
        {
          "output_type": "stream",
          "text": [
            "/usr/local/lib/python3.6/dist-packages/sklearn/metrics/_classification.py:1272: UndefinedMetricWarning: Precision and F-score are ill-defined and being set to 0.0 in labels with no predicted samples. Use `zero_division` parameter to control this behavior.\n",
            "  _warn_prf(average, modifier, msg_start, len(result))\n"
          ],
          "name": "stderr"
        },
        {
          "output_type": "execute_result",
          "data": {
            "text/plain": [
              "array([[ 0,  0,  1,  0,  0],\n",
              "       [ 0,  0, 80,  0,  0],\n",
              "       [ 0,  0, 17,  0,  0],\n",
              "       [ 0,  0, 95,  0,  0],\n",
              "       [ 0,  0, 25,  0,  0]])"
            ]
          },
          "metadata": {
            "tags": []
          },
          "execution_count": 19
        }
      ]
    }
  ]
}